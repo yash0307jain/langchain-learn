{
 "cells": [
  {
   "cell_type": "code",
   "execution_count": 29,
   "metadata": {},
   "outputs": [
    {
     "data": {
      "text/plain": [
       "True"
      ]
     },
     "execution_count": 29,
     "metadata": {},
     "output_type": "execute_result"
    }
   ],
   "source": [
    "from dotenv import load_dotenv\n",
    "\n",
    "load_dotenv()"
   ]
  },
  {
   "cell_type": "markdown",
   "metadata": {},
   "source": [
    "## initialize_agent\n"
   ]
  },
  {
   "cell_type": "code",
   "execution_count": 47,
   "metadata": {},
   "outputs": [],
   "source": [
    "from langchain_openai import ChatOpenAI\n",
    "from langchain.agents import initialize_agent, AgentType\n",
    "\n",
    "\n",
    "# Initialize our OpenAI model—we'll use temperature=0 for predictable outputs\n",
    "llm = ChatOpenAI(model=\"gpt-4o-mini\", temperature=0)"
   ]
  },
  {
   "cell_type": "code",
   "execution_count": 48,
   "metadata": {},
   "outputs": [
    {
     "name": "stdout",
     "output_type": "stream",
     "text": [
      "\n",
      "\n",
      "\u001b[1m> Entering new AgentExecutor chain...\u001b[0m\n",
      "\u001b[32;1m\u001b[1;3mTo solve the problem, I need to first multiply 15 by 7, and then add 10 to the result. \n",
      "\n",
      "Action: calculator\n",
      "Action Input: \"15 * 7\"\u001b[0m\n",
      "Observation: \u001b[36;1m\u001b[1;3m105\u001b[0m\n",
      "Thought:\u001b[32;1m\u001b[1;3mNow that I have the result of the multiplication, I need to add 10 to it.\n",
      "\n",
      "Action: calculator  \n",
      "Action Input: \"105 + 10\"  \u001b[0m\n",
      "Observation: \u001b[36;1m\u001b[1;3m115\u001b[0m\n",
      "Thought:\u001b[32;1m\u001b[1;3mI now know the final answer.  \n",
      "Final Answer: 115\u001b[0m\n",
      "\n",
      "\u001b[1m> Finished chain.\u001b[0m\n",
      "\n",
      "Result with initialize_agent: 115\n"
     ]
    }
   ],
   "source": [
    "from langchain.tools import StructuredTool\n",
    "\n",
    "\n",
    "# Let's create a simple calculator tool as an example:\n",
    "def calculator(query: str) -> float:\n",
    "    \"\"\"Evaluates simple math expressions like '5 + 3'.\"\"\"\n",
    "    return eval(query)\n",
    "\n",
    "\n",
    "calc_tool = StructuredTool.from_function(\n",
    "    func=calculator,\n",
    "    name=\"calculator\",\n",
    "    description=\"Useful for evaluating math expressions such as addition, substraction, multiplication and division.\",\n",
    ")\n",
    "\n",
    "# Create agent quickly with initialize_agent\n",
    "agent = initialize_agent(\n",
    "    tools=[calc_tool],\n",
    "    llm=llm,\n",
    "    agent=AgentType.ZERO_SHOT_REACT_DESCRIPTION,\n",
    "    verbose=True,\n",
    ")\n",
    "\n",
    "# Let's ask a simple question to our agent\n",
    "result = agent.invoke(\"What's 15 multiplied by 7, then added to 10?\")\n",
    "print(\"\\nResult with initialize_agent:\", result[\"output\"])"
   ]
  },
  {
   "cell_type": "markdown",
   "metadata": {},
   "source": [
    "## create_react_agent\n"
   ]
  },
  {
   "cell_type": "code",
   "execution_count": 49,
   "metadata": {},
   "outputs": [],
   "source": [
    "from langchain.agents import AgentExecutor\n",
    "from langchain.agents.react.agent import create_react_agent\n",
    "from langchain_core.prompts import PromptTemplate"
   ]
  },
  {
   "cell_type": "code",
   "execution_count": 66,
   "metadata": {},
   "outputs": [],
   "source": [
    "# Custom prompt (feel free to tweak as you like)\n",
    "react_prompt = PromptTemplate.from_template(\n",
    "    \"\"\"\n",
    "        Answer the following questions clearly and step-by-step.\n",
    "\n",
    "        You have access to these tools:\n",
    "        {tools}\n",
    "\n",
    "        Use this format strictly:\n",
    "\n",
    "        Question: {input}\n",
    "        Thought: Consider what's next logically\n",
    "        Action: Select a suitable tool from {tool_names}\n",
    "        Action Input: Provide relevant input like this \"num1\": <given number 1>, \"num2\": <given number 2>\n",
    "        Observation: Examine the tool's response, and if something wrong mention that as well\n",
    "        \n",
    "        Thought: I've got what I need now\n",
    "        Final Answer: Clearly state the final answer here.\n",
    "\n",
    "        {agent_scratchpad}\n",
    "    \"\"\"\n",
    ")"
   ]
  },
  {
   "cell_type": "code",
   "execution_count": 67,
   "metadata": {},
   "outputs": [],
   "source": [
    "from pydantic import BaseModel, Field\n",
    "\n",
    "\n",
    "class CalculatorModel(BaseModel):\n",
    "    num1: float = Field(description=\"first integer number\")\n",
    "    num2: float = Field(description=\"second integer number\")\n",
    "\n",
    "\n",
    "# Let's create a simple calculator tool as an example:\n",
    "def multiplication_with_schema(num1: float, num2: float) -> float:\n",
    "    \"\"\"Evaluates simple math expressions like '5 * 3'.\"\"\"\n",
    "    return num1 * num2\n",
    "\n",
    "\n",
    "multiplication_tool_with_schema = StructuredTool.from_function(\n",
    "    func=multiplication_with_schema,\n",
    "    name=\"multiplication_with_schema\",\n",
    "    description=\"Useful for evaluating multiplication\",\n",
    "    args_schema=CalculatorModel,\n",
    "    return_direct=True,\n",
    ")\n",
    "\n",
    "\n",
    "# Let's create a simple calculator tool as an example:\n",
    "def addition_with_schema(num1: float, num2: float) -> float:\n",
    "    \"\"\"Evaluates simple math expressions like '5 + 3'.\"\"\"\n",
    "    return num1 + num2\n",
    "\n",
    "\n",
    "addition_tool_with_schema = StructuredTool.from_function(\n",
    "    func=addition_with_schema,\n",
    "    name=\"addition_with_schema\",\n",
    "    description=\"Useful for evaluating addition\",\n",
    "    args_schema=CalculatorModel,\n",
    "    return_direct=True,\n",
    ")"
   ]
  },
  {
   "cell_type": "code",
   "execution_count": 68,
   "metadata": {},
   "outputs": [
    {
     "name": "stdout",
     "output_type": "stream",
     "text": [
      "\n",
      "\n",
      "\u001b[1m> Entering new AgentExecutor chain...\u001b[0m\n",
      "\u001b[32;1m\u001b[1;3mQuestion: What's 15 multiplied by 7, then added to 10?  \n",
      "Thought: First, I need to multiply 15 by 7, and then I will add 10 to the result.  \n",
      "Action: Select a suitable tool from multiplication_with_schema  \n",
      "Action Input: \"num1\": 15, \"num2\": 7  \u001b[0mSelect a suitable tool from multiplication_with_schema is not a valid tool, try one of [multiplication_with_schema, addition_with_schema].\u001b[32;1m\u001b[1;3mQuestion: What's 15 multiplied by 7, then added to 10?  \n",
      "Thought: First, I need to multiply 15 by 7, and then I will add 10 to the result.  \n",
      "Action: Select a suitable tool from multiplication_with_schema  \n",
      "Action Input: \"num1\": 15, \"num2\": 7  \u001b[0mSelect a suitable tool from multiplication_with_schema is not a valid tool, try one of [multiplication_with_schema, addition_with_schema].\u001b[32;1m\u001b[1;3mQuestion: What's 15 multiplied by 7, then added to 10?  \n",
      "Thought: First, I need to multiply 15 by 7, and then I will add 10 to the result.  \n",
      "Action: Select a suitable tool from multiplication_with_schema  \n",
      "Action Input: \"num1\": 15, \"num2\": 7  \u001b[0mSelect a suitable tool from multiplication_with_schema is not a valid tool, try one of [multiplication_with_schema, addition_with_schema].\u001b[32;1m\u001b[1;3mQuestion: What's 15 multiplied by 7, then added to 10?  \n",
      "Thought: First, I need to multiply 15 by 7, and then I will add 10 to the result.  \n",
      "Action: Select a suitable tool from multiplication_with_schema  \n",
      "Action Input: \"num1\": 15, \"num2\": 7  \u001b[0mSelect a suitable tool from multiplication_with_schema is not a valid tool, try one of [multiplication_with_schema, addition_with_schema].\u001b[32;1m\u001b[1;3mQuestion: What's 15 multiplied by 7, then added to 10?  \n",
      "Thought: First, I need to multiply 15 by 7, and then I will add 10 to the result.  \n",
      "Action: Select a suitable tool from multiplication_with_schema  \n",
      "Action Input: \"num1\": 15, \"num2\": 7  \u001b[0mSelect a suitable tool from multiplication_with_schema is not a valid tool, try one of [multiplication_with_schema, addition_with_schema].\u001b[32;1m\u001b[1;3m\u001b[0m\n",
      "\n",
      "\u001b[1m> Finished chain.\u001b[0m\n",
      "\n",
      "Result with create_react_agent: Agent stopped due to iteration limit or time limit.\n"
     ]
    }
   ],
   "source": [
    "# Explicitly create our customized react agent with specific tools and prompt\n",
    "react_agent = create_react_agent(\n",
    "    llm=llm,\n",
    "    tools=[multiplication_tool_with_schema, addition_tool_with_schema],\n",
    "    prompt=react_prompt,\n",
    ")\n",
    "\n",
    "# Manually create AgentExecutor for execution\n",
    "executor = AgentExecutor(\n",
    "    agent=react_agent,\n",
    "    tools=[multiplication_tool_with_schema, addition_tool_with_schema],\n",
    "    verbose=True,\n",
    "    max_iterations=5,\n",
    ")\n",
    "\n",
    "# Now let's ask our agent the same math question\n",
    "result_custom = executor.invoke({\"input\": \"What's 15 multiplied by 7, then added to 10?\"})\n",
    "print(\"\\nResult with create_react_agent:\", result_custom[\"output\"])"
   ]
  },
  {
   "cell_type": "code",
   "execution_count": null,
   "metadata": {},
   "outputs": [],
   "source": []
  }
 ],
 "metadata": {
  "kernelspec": {
   "display_name": "Python 3",
   "language": "python",
   "name": "python3"
  },
  "language_info": {
   "codemirror_mode": {
    "name": "ipython",
    "version": 3
   },
   "file_extension": ".py",
   "mimetype": "text/x-python",
   "name": "python",
   "nbconvert_exporter": "python",
   "pygments_lexer": "ipython3",
   "version": "3.12.9"
  }
 },
 "nbformat": 4,
 "nbformat_minor": 2
}
