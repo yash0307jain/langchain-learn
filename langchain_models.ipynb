{
    "cells": [
        {
            "cell_type": "markdown",
            "metadata": {},
            "source": [
                "# Langchain Models\n"
            ]
        },
        {
            "cell_type": "code",
            "execution_count": 4,
            "metadata": {},
            "outputs": [],
            "source": [
                "import os\n",
                "from dotenv import load_dotenv\n",
                "\n",
                "load_dotenv()\n",
                "\n",
                "OPENAI_API_KEY = os.environ[\"OPENAI_API_KEY\"]\n",
                "os.environ[\"OPENAI_API_KEY\"] = OPENAI_API_KEY"
            ]
        },
        {
            "cell_type": "markdown",
            "metadata": {},
            "source": [
                "## 1. ChatOpenAI\n",
                "\n",
                "Doc Link: [ChatOpenAI](https://python.langchain.com/api_reference/openai/chat_models/langchain_openai.chat_models.base.ChatOpenAI.html#chatopenai)\n"
            ]
        },
        {
            "cell_type": "code",
            "execution_count": null,
            "metadata": {},
            "outputs": [
                {
                    "data": {
                        "text/plain": [
                            "AIMessage(content='LangChain is a blockchain-based platform that leverages artificial intelligence to enable translation and language services. The platform aims to reduce costs and increase efficiency in the language industry by eliminating intermediaries and allowing translators to interact directly with clients. The use of AI allows for enhanced accuracy and speed in translation services.', additional_kwargs={'refusal': None}, response_metadata={'token_usage': {'completion_tokens': 60, 'prompt_tokens': 12, 'total_tokens': 72, 'completion_tokens_details': {'accepted_prediction_tokens': 0, 'audio_tokens': 0, 'reasoning_tokens': 0, 'rejected_prediction_tokens': 0}, 'prompt_tokens_details': {'audio_tokens': 0, 'cached_tokens': 0}}, 'model_name': 'gpt-4-0613', 'system_fingerprint': None, 'finish_reason': 'stop', 'logprobs': None}, id='run-a1a983d3-a279-48a0-b16c-562101cd4c9c-0', usage_metadata={'input_tokens': 12, 'output_tokens': 60, 'total_tokens': 72, 'input_token_details': {'audio': 0, 'cache_read': 0}, 'output_token_details': {'audio': 0, 'reasoning': 0}})"
                        ]
                    },
                    "execution_count": 1,
                    "metadata": {},
                    "output_type": "execute_result"
                }
            ],
            "source": [
                "from langchain_openai import ChatOpenAI\n",
                "\n",
                "llm = ChatOpenAI(model=\"gpt-4-turbo\")\n",
                "llm.invoke(\"What is langchain?\") "
            ]
        },
        {
            "cell_type": "markdown",
            "metadata": {},
            "source": [
                "## 2. OpenAI\n",
                "\n",
                "Doc Link: [OpenAI](https://python.langchain.com/api_reference/openai/llms/langchain_openai.llms.base.OpenAI.html#openai)\n"
            ]
        },
        {
            "cell_type": "code",
            "execution_count": null,
            "metadata": {},
            "outputs": [
                {
                    "data": {
                        "text/plain": [
                            "'\\n\\nLangchain is a decentralized blockchain platform that focuses on language-related applications and services. It aims to provide a secure and efficient environment for language learning, translation, and communication. The platform utilizes smart contracts and a native cryptocurrency to facilitate transactions and incentivize participation from users. It also incorporates artificial intelligence and machine learning technologies to improve the accuracy and effectiveness of its language-related services. Langchain aims to bridge the language barrier and promote global communication and understanding.'"
                        ]
                    },
                    "execution_count": 6,
                    "metadata": {},
                    "output_type": "execute_result"
                }
            ],
            "source": [
                "from langchain_openai import OpenAI\n",
                "\n",
                "llm = OpenAI(\n",
                "    model=\"gpt-4-turbo-instruct\",\n",
                "    temperature=0.3,\n",
                "    max_retries=2,\n",
                ")\n",
                "llm.invoke(\"What is langchain?\")"
            ]
        }
    ],
    "metadata": {
        "kernelspec": {
            "display_name": "Python 3",
            "language": "python",
            "name": "python3"
        },
        "language_info": {
            "codemirror_mode": {
                "name": "ipython",
                "version": 3
            },
            "file_extension": ".py",
            "mimetype": "text/x-python",
            "name": "python",
            "nbconvert_exporter": "python",
            "pygments_lexer": "ipython3",
            "version": "3.11.11"
        }
    },
    "nbformat": 4,
    "nbformat_minor": 2
}
