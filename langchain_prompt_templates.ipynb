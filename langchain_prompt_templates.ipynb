{
 "cells": [
  {
   "cell_type": "markdown",
   "metadata": {},
   "source": [
    "# Langchain Prompt Templates\n"
   ]
  },
  {
   "cell_type": "markdown",
   "metadata": {},
   "source": [
    "## 1. String PromptTemplates\n",
    "\n",
    "Doc Link: [String PromptTemplates](https://python.langchain.com/docs/concepts/prompt_templates/#string-prompttemplates)\n"
   ]
  },
  {
   "cell_type": "markdown",
   "metadata": {},
   "source": [
    "`Invoke`\n"
   ]
  },
  {
   "cell_type": "code",
   "execution_count": 49,
   "metadata": {},
   "outputs": [
    {
     "data": {
      "text/plain": [
       "StringPromptValue(text='Tell me a joke about cats')"
      ]
     },
     "execution_count": 49,
     "metadata": {},
     "output_type": "execute_result"
    }
   ],
   "source": [
    "from langchain_core.prompts import PromptTemplate\n",
    "\n",
    "prompt_template = PromptTemplate.from_template(\"Tell me a joke about {topic}\")\n",
    "\n",
    "prompt_template.invoke({\"topic\": \"cats\"})"
   ]
  },
  {
   "cell_type": "markdown",
   "metadata": {},
   "source": [
    "`Format`\n"
   ]
  },
  {
   "cell_type": "code",
   "execution_count": 42,
   "metadata": {},
   "outputs": [
    {
     "data": {
      "text/plain": [
       "'Tell me a joke about dogs'"
      ]
     },
     "execution_count": 42,
     "metadata": {},
     "output_type": "execute_result"
    }
   ],
   "source": [
    "from langchain_core.prompts import PromptTemplate\n",
    "\n",
    "prompt_template = PromptTemplate.from_template(\"Tell me a joke about {topic}\")\n",
    "\n",
    "prompt_template.format(topic=\"dogs\")"
   ]
  },
  {
   "cell_type": "markdown",
   "metadata": {},
   "source": [
    "## 2. ChatPromptTemplates\n",
    "\n",
    "Doc Link: [ChatPromptTemplates](https://python.langchain.com/docs/concepts/prompt_templates/#chatprompttemplates)\n"
   ]
  },
  {
   "cell_type": "markdown",
   "metadata": {},
   "source": [
    "`Invoke`\n"
   ]
  },
  {
   "cell_type": "code",
   "execution_count": 56,
   "metadata": {},
   "outputs": [
    {
     "data": {
      "text/plain": [
       "ChatPromptValue(messages=[HumanMessage(content='Tell me a joke about cats', additional_kwargs={}, response_metadata={})])"
      ]
     },
     "execution_count": 56,
     "metadata": {},
     "output_type": "execute_result"
    }
   ],
   "source": [
    "from langchain_core.prompts import ChatPromptTemplate\n",
    "\n",
    "prompt_template = ChatPromptTemplate.from_template(\"Tell me a joke about {topic}\")\n",
    "\n",
    "prompt_template.invoke({\"topic\": \"cats\"})"
   ]
  },
  {
   "cell_type": "code",
   "execution_count": 4,
   "metadata": {},
   "outputs": [
    {
     "data": {
      "text/plain": [
       "ChatPromptValue(messages=[SystemMessage(content='You are a helpful assistant', additional_kwargs={}, response_metadata={}), HumanMessage(content='Tell me a joke about cats', additional_kwargs={}, response_metadata={})])"
      ]
     },
     "execution_count": 4,
     "metadata": {},
     "output_type": "execute_result"
    }
   ],
   "source": [
    "from langchain_core.prompts import ChatPromptTemplate\n",
    "\n",
    "prompt_template = ChatPromptTemplate(\n",
    "    [\n",
    "        (\"system\", \"You are a helpful assistant\"),\n",
    "        (\"user\", \"Tell me a joke about {topic}\"),\n",
    "    ]\n",
    ")\n",
    "\n",
    "prompt_template.invoke({\"topic\": \"cats\"})"
   ]
  },
  {
   "cell_type": "markdown",
   "metadata": {},
   "source": [
    "`Format`\n"
   ]
  },
  {
   "cell_type": "code",
   "execution_count": 57,
   "metadata": {},
   "outputs": [
    {
     "data": {
      "text/plain": [
       "'Human: Tell me a joke about dogs'"
      ]
     },
     "execution_count": 57,
     "metadata": {},
     "output_type": "execute_result"
    }
   ],
   "source": [
    "from langchain_core.prompts import ChatPromptTemplate\n",
    "\n",
    "prompt_template = ChatPromptTemplate.from_template(\"Tell me a joke about {topic}\")\n",
    "\n",
    "prompt_template.format(topic=\"dogs\")"
   ]
  },
  {
   "cell_type": "code",
   "execution_count": 43,
   "metadata": {},
   "outputs": [
    {
     "data": {
      "text/plain": [
       "'System: You are a helpful assistant\\nHuman: Tell me a joke about dogs'"
      ]
     },
     "execution_count": 43,
     "metadata": {},
     "output_type": "execute_result"
    }
   ],
   "source": [
    "from langchain_core.prompts import ChatPromptTemplate\n",
    "\n",
    "prompt_template = ChatPromptTemplate(\n",
    "    [\n",
    "        (\"system\", \"You are a helpful assistant\"),\n",
    "        (\"user\", \"Tell me a joke about {topic}\"),\n",
    "    ]\n",
    ")\n",
    "\n",
    "prompt_template.format(topic=\"dogs\")"
   ]
  },
  {
   "cell_type": "markdown",
   "metadata": {},
   "source": [
    "## 3. FewShotPromptTemplate\n",
    "\n",
    "Doc Link: [FewShotPromptTemplate](https://python.langchain.com/api_reference/core/prompts/langchain_core.prompts.few_shot.FewShotPromptTemplate.html)\n"
   ]
  },
  {
   "cell_type": "markdown",
   "metadata": {},
   "source": [
    "`Invoke`\n"
   ]
  },
  {
   "cell_type": "code",
   "execution_count": 54,
   "metadata": {},
   "outputs": [
    {
     "name": "stdout",
     "output_type": "stream",
     "text": [
      "text=\"Provide an answer to the following question based on the examples.\\n\\n\\n\\nQuestion: What is the capital of France?\\nAnswer: The capital of France is Paris.\\n\\n\\nQuestion: What is 2 + 2?\\nAnswer: 2 + 2 equals 4.\\n\\n\\nQuestion: Who wrote '1984'?\\nAnswer: The author of '1984' is George Orwell.\\n\\n\\nQuestion: Who wrote 'Animal Farm'?\\nAnswer:\"\n"
     ]
    }
   ],
   "source": [
    "from langchain_core.prompts import PromptTemplate, FewShotPromptTemplate\n",
    "\n",
    "# Define the examples as dictionaries with 'input' and 'output'\n",
    "examples = [\n",
    "    {\"input\": \"What is the capital of France?\", \"output\": \"The capital of France is Paris.\"},\n",
    "    {\"input\": \"What is 2 + 2?\", \"output\": \"2 + 2 equals 4.\"},\n",
    "    {\"input\": \"Who wrote '1984'?\", \"output\": \"The author of '1984' is George Orwell.\"},\n",
    "]\n",
    "\n",
    "# Define a PromptTemplate to format the prompt for the examples\n",
    "example_template = \"Question: {input}\\nAnswer: {output}\\n\"\n",
    "example_prompt = PromptTemplate(\n",
    "    template=example_template,\n",
    "    input_variables=[\"input\", \"output\"],\n",
    ")\n",
    "\n",
    "# Create the FewShotPromptTemplate\n",
    "few_shot_prompt = FewShotPromptTemplate(\n",
    "    examples=examples,\n",
    "    example_prompt=example_prompt,\n",
    "    prefix=\"Provide an answer to the following question based on the examples.\\n\\n\",\n",
    "    suffix=\"Question: {input}\\nAnswer:\",\n",
    "    input_variables=[\"input\"],\n",
    ")\n",
    "\n",
    "# Now you can use this to generate a prompt\n",
    "generated_prompt = few_shot_prompt.invoke({\"input\": \"Who wrote 'Animal Farm'?\"})\n",
    "print(generated_prompt)"
   ]
  },
  {
   "cell_type": "markdown",
   "metadata": {},
   "source": [
    "`Format`\n"
   ]
  },
  {
   "cell_type": "code",
   "execution_count": 53,
   "metadata": {},
   "outputs": [
    {
     "name": "stdout",
     "output_type": "stream",
     "text": [
      "Provide an answer to the following question based on the examples.\n",
      "\n",
      "\n",
      "\n",
      "Question: What is the capital of France?\n",
      "Answer: The capital of France is Paris.\n",
      "\n",
      "\n",
      "Question: What is 2 + 2?\n",
      "Answer: 2 + 2 equals 4.\n",
      "\n",
      "\n",
      "Question: Who wrote '1984'?\n",
      "Answer: The author of '1984' is George Orwell.\n",
      "\n",
      "\n",
      "Question: Who wrote 'Animal Farm'\n",
      "Answer:\n"
     ]
    }
   ],
   "source": [
    "from langchain_core.prompts import PromptTemplate, FewShotPromptTemplate\n",
    "\n",
    "# Define the examples as dictionaries with 'input' and 'output'\n",
    "examples = [\n",
    "    {\"input\": \"What is the capital of France?\", \"output\": \"The capital of France is Paris.\"},\n",
    "    {\"input\": \"What is 2 + 2?\", \"output\": \"2 + 2 equals 4.\"},\n",
    "    {\"input\": \"Who wrote '1984'?\", \"output\": \"The author of '1984' is George Orwell.\"},\n",
    "]\n",
    "\n",
    "# Define a PromptTemplate to format the prompt for the examples\n",
    "example_template = \"Question: {input}\\nAnswer: {output}\\n\"\n",
    "example_prompt = PromptTemplate(\n",
    "    template=example_template,\n",
    "    input_variables=[\"input\", \"output\"],\n",
    ")\n",
    "\n",
    "# Create the FewShotPromptTemplate\n",
    "few_shot_prompt = FewShotPromptTemplate(\n",
    "    examples=examples,\n",
    "    example_prompt=example_prompt,\n",
    "    prefix=\"Provide an answer to the following question based on the examples.\\n\\n\",\n",
    "    suffix=\"Question: {input}\\nAnswer:\",\n",
    "    input_variables=[\"input\"],\n",
    ")\n",
    "\n",
    "# Now you can use this to generate a prompt\n",
    "generated_prompt = few_shot_prompt.format(input=\"Who wrote 'Animal Farm'\")\n",
    "print(generated_prompt)"
   ]
  },
  {
   "cell_type": "markdown",
   "metadata": {},
   "source": [
    "## 4. MessagePlaceholder\n",
    "\n",
    "Doc Link: [MessagePlaceholder](https://python.langchain.com/api_reference/core/prompts/langchain_core.prompts.chat.MessagesPlaceholder.html)\n"
   ]
  },
  {
   "cell_type": "code",
   "execution_count": 38,
   "metadata": {},
   "outputs": [
    {
     "data": {
      "text/plain": [
       "[SystemMessage(content='You are an AI assistant.', additional_kwargs={}, response_metadata={}),\n",
       " HumanMessage(content='Hello!', additional_kwargs={}, response_metadata={})]"
      ]
     },
     "execution_count": 38,
     "metadata": {},
     "output_type": "execute_result"
    }
   ],
   "source": [
    "from langchain_core.prompts import MessagesPlaceholder\n",
    "\n",
    "prompt = MessagesPlaceholder(\"history\")\n",
    "# prompt.format_messages() # raises KeyError"
   ]
  },
  {
   "cell_type": "code",
   "execution_count": 39,
   "metadata": {},
   "outputs": [
    {
     "data": {
      "text/plain": [
       "[]"
      ]
     },
     "execution_count": 39,
     "metadata": {},
     "output_type": "execute_result"
    }
   ],
   "source": [
    "prompt = MessagesPlaceholder(\"history\", optional=True)\n",
    "prompt.format_messages()  # returns empty list []"
   ]
  },
  {
   "cell_type": "code",
   "execution_count": 40,
   "metadata": {},
   "outputs": [
    {
     "data": {
      "text/plain": [
       "[SystemMessage(content='You are an AI assistant.', additional_kwargs={}, response_metadata={}),\n",
       " HumanMessage(content='Hello!', additional_kwargs={}, response_metadata={})]"
      ]
     },
     "execution_count": 40,
     "metadata": {},
     "output_type": "execute_result"
    }
   ],
   "source": [
    "prompt.format_messages(\n",
    "    history=[\n",
    "        (\"system\", \"You are an AI assistant.\"),\n",
    "        (\"human\", \"Hello!\"),\n",
    "    ]\n",
    ")"
   ]
  },
  {
   "cell_type": "code",
   "execution_count": 41,
   "metadata": {},
   "outputs": [
    {
     "data": {
      "text/plain": [
       "ChatPromptValue(messages=[SystemMessage(content='You are a helpful assistant.', additional_kwargs={}, response_metadata={}), HumanMessage(content='What i 5 + 2', additional_kwargs={}, response_metadata={}), AIMessage(content='5 + 2 is 7', additional_kwargs={}, response_metadata={}), HumanMessage(content='now multiply that by 4', additional_kwargs={}, response_metadata={})])"
      ]
     },
     "execution_count": 41,
     "metadata": {},
     "output_type": "execute_result"
    }
   ],
   "source": [
    "from langchain_core.prompts import ChatPromptTemplate, MessagesPlaceholder\n",
    "\n",
    "prompt = ChatPromptTemplate.from_messages(\n",
    "    [\n",
    "        (\"system\", \"You are a helpful assistant.\"),\n",
    "        MessagesPlaceholder(\"history\"),\n",
    "        (\"human\", \"{question}\"),\n",
    "    ]\n",
    ")\n",
    "\n",
    "prompt.invoke(\n",
    "    {\n",
    "        \"history\": [\n",
    "            (\"human\", \"What i 5 + 2\"),\n",
    "            (\"ai\", \"5 + 2 is 7\"),\n",
    "        ],\n",
    "        \"question\": \"now multiply that by 4\",\n",
    "    },\n",
    ")"
   ]
  }
 ],
 "metadata": {
  "kernelspec": {
   "display_name": "Python 3",
   "language": "python",
   "name": "python3"
  },
  "language_info": {
   "codemirror_mode": {
    "name": "ipython",
    "version": 3
   },
   "file_extension": ".py",
   "mimetype": "text/x-python",
   "name": "python",
   "nbconvert_exporter": "python",
   "pygments_lexer": "ipython3",
   "version": "3.11.11"
  }
 },
 "nbformat": 4,
 "nbformat_minor": 2
}
