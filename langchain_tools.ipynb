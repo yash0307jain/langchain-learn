{
 "cells": [
  {
   "cell_type": "markdown",
   "metadata": {},
   "source": [
    "# Load environment variables"
   ]
  },
  {
   "cell_type": "code",
   "execution_count": 63,
   "metadata": {},
   "outputs": [
    {
     "data": {
      "text/plain": [
       "True"
      ]
     },
     "execution_count": 63,
     "metadata": {},
     "output_type": "execute_result"
    }
   ],
   "source": [
    "from dotenv import load_dotenv\n",
    "\n",
    "load_dotenv()"
   ]
  },
  {
   "cell_type": "markdown",
   "metadata": {},
   "source": [
    "# Basic Tool in Langchain"
   ]
  },
  {
   "cell_type": "markdown",
   "metadata": {},
   "source": [
    "## By using tool decorator"
   ]
  },
  {
   "cell_type": "code",
   "execution_count": 62,
   "metadata": {},
   "outputs": [
    {
     "data": {
      "text/plain": [
       "8"
      ]
     },
     "execution_count": 62,
     "metadata": {},
     "output_type": "execute_result"
    }
   ],
   "source": [
    "from langchain_core.tools import tool\n",
    "\n",
    "\n",
    "@tool\n",
    "def add_numbers(a: int, b: int) -> int:\n",
    "    \"\"\"Add two numbers and returns the sum.\"\"\"\n",
    "    return a + b\n",
    "\n",
    "\n",
    "add_numbers.run(tool_input={\"a\": 3, \"b\": 5})"
   ]
  },
  {
   "cell_type": "code",
   "execution_count": null,
   "metadata": {},
   "outputs": [
    {
     "name": "stdout",
     "output_type": "stream",
     "text": [
      "\n",
      "\n",
      "\u001b[1m> Entering new AgentExecutor chain...\u001b[0m\n",
      "\u001b[32;1m\u001b[1;3mThought: To find the sum, I must use the available tool add_numbers.\n",
      "Action: add_numbers\n",
      "Action Input: 3 5\u001b[0mTool called with input: 3 5, result: 8\n",
      "\u001b[36;1m\u001b[1;3m8\u001b[0m\u001b[32;1m\u001b[1;3mFinal Answer: The sum of 3 and 5 is 8.\u001b[0m\n",
      "\n",
      "\u001b[1m> Finished chain.\u001b[0m\n",
      "Final Response: The sum of 3 and 5 is 8.\n"
     ]
    }
   ],
   "source": [
    "from langchain_core.tools import tool\n",
    "from langchain_openai import ChatOpenAI\n",
    "from langchain.agents.output_parsers import ReActSingleInputOutputParser\n",
    "from langchain.agents.format_scratchpad import format_log_to_str\n",
    "from langchain_core.prompts import PromptTemplate\n",
    "from langchain.agents import AgentExecutor\n",
    "from langchain.tools.render import render_text_description\n",
    "\n",
    "# Define the tool for addition\n",
    "@tool\n",
    "def add_numbers(input: str) -> int:\n",
    "    \"\"\"Add two numbers given in 'num1 num2' format.\"\"\"\n",
    "    numbers = [int(s) for s in input.replace(\"+\", \" \").split() if s.isdigit()]\n",
    "    result = sum(numbers)\n",
    "    print(f\"Tool called with input: {input}, result: {result}\")\n",
    "    return result\n",
    "\n",
    "# Instantiate your LLM\n",
    "llm = ChatOpenAI(model=\"gpt-4-turbo\", temperature=0)\n",
    "\n",
    "# Custom prompt explicitly instructing ReAct style\n",
    "prompt_template = \"\"\"\n",
    "You are a helpful assistant.\n",
    "\n",
    "Follow this approach strictly when answering the user's question:\n",
    "\n",
    "- If you need to use a tool to answer the question, you must clearly specify an Action and Action Input.\n",
    "- If you have enough information to answer directly, provide a Final Answer.\n",
    "\n",
    "Here is an example of the REQUIRED format:\n",
    "\n",
    "Question: What is 3 plus 5?\n",
    "Thought: To find the sum, I must use the available tool add_numbers.\n",
    "Action: add_numbers\n",
    "Action Input: 3 5\n",
    "Observation: 8\n",
    "Final Answer: The sum of 3 and 5 is 8.\n",
    "\n",
    "You have the following tools:\n",
    "{tools}\n",
    "\n",
    "Now, answer this question:\n",
    "\n",
    "Question: {question}\n",
    "{agent_scratchpad}\n",
    "\"\"\"\n",
    "\n",
    "# Create prompt template object\n",
    "prompt = PromptTemplate(\n",
    "    template=prompt_template,\n",
    "    input_variables=[\"tools\", \"question\", \"agent_scratchpad\"]\n",
    ")\n",
    "\n",
    "# Create the agent pipeline using ReActSingleInputOutputParser\n",
    "llm_with_stop = llm.bind(stop=[\"\\nObservation\"])\n",
    "\n",
    "agent_runnable = (\n",
    "    {\n",
    "        \"tools\": lambda x: render_text_description([add_numbers]),\n",
    "        \"question\": lambda x: x[\"question\"],\n",
    "        \"agent_scratchpad\": lambda x: format_log_to_str(x[\"intermediate_steps\"]),\n",
    "    }\n",
    "    | prompt\n",
    "    | llm_with_stop\n",
    "    | ReActSingleInputOutputParser()\n",
    ")\n",
    "\n",
    "# Create AgentExecutor\n",
    "agent_executor = AgentExecutor(agent=agent_runnable, tools=[add_numbers], verbose=True)\n",
    "\n",
    "# Now we run the agent correctly with proper parsing\n",
    "response = agent_executor.invoke({\"question\": \"What is the sum of 3 and 5?\"})\n",
    "print(\"Final Response:\", response[\"output\"])"
   ]
  },
  {
   "cell_type": "markdown",
   "metadata": {},
   "source": [
    "## By using langchain agent"
   ]
  },
  {
   "cell_type": "code",
   "execution_count": null,
   "metadata": {},
   "outputs": [
    {
     "name": "stdout",
     "output_type": "stream",
     "text": [
      "\n",
      "\n",
      "\u001b[1m> Entering new AgentExecutor chain...\u001b[0m\n",
      "\u001b[32;1m\u001b[1;3mI need to add the numbers 2 and 3 together.\n",
      "\n",
      "Action: add_numbers\n",
      "Action Input: [2, 3]\u001b[0m[2, 3] <class 'str'>\n",
      "a: 2, b: 3\n",
      "\n",
      "Observation: \u001b[36;1m\u001b[1;3m5\u001b[0m\n",
      "Thought:\u001b[32;1m\u001b[1;3mI now know the final answer\n",
      "Final Answer: 5\u001b[0m\n",
      "\n",
      "\u001b[1m> Finished chain.\u001b[0m\n"
     ]
    },
    {
     "data": {
      "text/plain": [
       "{'input': 'add 2 and 3', 'output': '5'}"
      ]
     },
     "execution_count": 56,
     "metadata": {},
     "output_type": "execute_result"
    }
   ],
   "source": [
    "from langchain.agents import Tool, initialize_agent, AgentType\n",
    "from langchain_openai import ChatOpenAI\n",
    "\n",
    "\n",
    "def add_numbers(input: str) -> int:\n",
    "    \"\"\"Add two numbers and returns the sum.\"\"\"\n",
    "    numbers = [int(s) for s in input.replace(\"+\", \" \").split() if s.isdigit()]\n",
    "    result = sum(numbers)\n",
    "    print(f\"Tool called with input: {input}, result: {result}\")\n",
    "    return result\n",
    "\n",
    "\n",
    "add_tool = Tool(\n",
    "    func=add_numbers,\n",
    "    name=\"add_numbers\",\n",
    "    description=\"Function to add two numbers\",\n",
    ")\n",
    "\n",
    "llm = ChatOpenAI(model=\"gpt-4-turbo\", temperature=0)\n",
    "\n",
    "agent = initialize_agent(\n",
    "    [add_tool],\n",
    "    llm,\n",
    "    agent_type=AgentType.ZERO_SHOT_REACT_DESCRIPTION,\n",
    "    verbose=True,\n",
    ")\n",
    "\n",
    "agent.invoke(\"add 2 and 3\")"
   ]
  },
  {
   "cell_type": "markdown",
   "metadata": {},
   "source": [
    "## Another example of using Langchain agent"
   ]
  },
  {
   "cell_type": "code",
   "execution_count": null,
   "metadata": {},
   "outputs": [
    {
     "name": "stdout",
     "output_type": "stream",
     "text": [
      "\n",
      "\n",
      "\u001b[1m> Entering new AgentExecutor chain...\u001b[0m\n",
      "\u001b[32;1m\u001b[1;3mThought: To produce a processed input for LangChain, I will need to apply the defined MyCustomTool to a sample string related to LangChain. Since the nature of the processing is not detailed, I'll select a generic simple string related to LangChain to transform using the tool.\n",
      "\n",
      "Action: MyCustomTool\n",
      "Action Input: \"Explore advanced applications of LangChain technology.\"\u001b[0m\n",
      "Observation: \u001b[36;1m\u001b[1;3mProcessed input: Explore advanced applications of LangChain technology.\u001b[0m\n",
      "Thought:\u001b[32;1m\u001b[1;3mI now know the final answer\n",
      "Final Answer: The processed string for \"LangChain\" using MyCustomTool is \"Explore advanced applications of LangChain technology.\"\u001b[0m\n",
      "\n",
      "\u001b[1m> Finished chain.\u001b[0m\n"
     ]
    },
    {
     "data": {
      "text/plain": [
       "'The processed string for \"LangChain\" using MyCustomTool is \"Explore advanced applications of LangChain technology.\"'"
      ]
     },
     "execution_count": 4,
     "metadata": {},
     "output_type": "execute_result"
    }
   ],
   "source": [
    "from langchain.agents import Tool\n",
    "from langchain_openai import ChatOpenAI\n",
    "from langchain.agents import initialize_agent, AgentType\n",
    "\n",
    "\n",
    "# Define a custom tool\n",
    "def my_tool(input_string: str) -> str:\n",
    "    return f\"Processed input: {input_string}\"\n",
    "\n",
    "\n",
    "# Wrap the tool\n",
    "my_tool_instance = Tool(\n",
    "    name=\"MyCustomTool\",\n",
    "    func=my_tool,\n",
    "    description=\"This tool processes a string input\",\n",
    ")\n",
    "\n",
    "llm = ChatOpenAI(model=\"gpt-4-turbo\", temperature=0)\n",
    "\n",
    "tools = [my_tool_instance]\n",
    "agent = initialize_agent(\n",
    "    tools,\n",
    "    llm,\n",
    "    agent_type=AgentType.ZERO_SHOT_REACT_DESCRIPTION,\n",
    "    verbose=True,\n",
    ")\n",
    "\n",
    "result = agent.run(\"Give me some processed input for Langchain\")\n",
    "result"
   ]
  },
  {
   "cell_type": "markdown",
   "metadata": {},
   "source": [
    "# How to use multiple tools"
   ]
  },
  {
   "cell_type": "code",
   "execution_count": null,
   "metadata": {},
   "outputs": [
    {
     "name": "stdout",
     "output_type": "stream",
     "text": [
      "\n",
      "\n",
      "\u001b[1m> Entering new AgentExecutor chain...\u001b[0m\n",
      "\u001b[32;1m\u001b[1;3mSince the user explicitly wants to use Tool 2, I will oblige.\n",
      "\n",
      "Action: Tool2\n",
      "Action Input: \"I want to use tool 2.\"\u001b[0m\n",
      "Observation: \u001b[33;1m\u001b[1;3mTool 2 processed: I want to use tool 2.\u001b[0m\n",
      "Thought:\u001b[32;1m\u001b[1;3mI now know the final answer\n",
      "Final Answer: Tool 2 has been used as requested.\u001b[0m\n",
      "\n",
      "\u001b[1m> Finished chain.\u001b[0m\n",
      "Tool 2 has been used as requested.\n"
     ]
    }
   ],
   "source": [
    "def tool_1(input_string: str) -> str:\n",
    "    return f\"Tool 1 processed: {input_string}\"\n",
    "\n",
    "\n",
    "def tool_2(input_string: str) -> str:\n",
    "    return f\"Tool 2 processed: {input_string}\"\n",
    "\n",
    "\n",
    "tool_1_instance = Tool(\n",
    "    name=\"Tool1\",\n",
    "    func=tool_1,\n",
    "    description=\"This tool processes input with Tool 1\",\n",
    ")\n",
    "\n",
    "tool_2_instance = Tool(\n",
    "    name=\"Tool2\",\n",
    "    func=tool_2,\n",
    "    description=\"This tool processes input with Tool 2\",\n",
    ")\n",
    "\n",
    "tools = [tool_1_instance, tool_2_instance]\n",
    "\n",
    "llm = ChatOpenAI(model=\"gpt-4-turbo\", temperature=0)\n",
    "\n",
    "# Initialize agent with multiple tools\n",
    "agent = initialize_agent(\n",
    "    tools,\n",
    "    llm,\n",
    "    agent_type=AgentType.ZERO_SHOT_REACT_DESCRIPTION,\n",
    "    verbose=True,\n",
    ")\n",
    "\n",
    "# Run the chain with an input\n",
    "result = agent.run(\"I want to use tool 2.\")\n",
    "print(result)"
   ]
  },
  {
   "cell_type": "markdown",
   "metadata": {},
   "source": [
    "# Another example of using multiple tools, a bit complex with one tools output as the input of other tool"
   ]
  },
  {
   "cell_type": "code",
   "execution_count": null,
   "metadata": {},
   "outputs": [
    {
     "name": "stderr",
     "output_type": "stream",
     "text": [
      "/var/folders/k8/kzbt1g0x6jn_40b5dzhsl6wh0000gn/T/ipykernel_4184/3047223167.py:53: LangChainDeprecationWarning: The method `Chain.run` was deprecated in langchain 0.1.0 and will be removed in 1.0. Use :meth:`~invoke` instead.\n",
      "  response = agent.run(query)\n"
     ]
    },
    {
     "name": "stdout",
     "output_type": "stream",
     "text": [
      "\n",
      "\n",
      "\u001b[1m> Entering new AgentExecutor chain...\u001b[0m\n",
      "\u001b[32;1m\u001b[1;3mFirst, I need to calculate the expression 56 multiplied by 23, add 12 to the result, and then divide by 100.\n",
      "\n",
      "Action: Calculator\n",
      "Action Input: (56 * 23 + 12) / 100\u001b[0m\n",
      "Observation: \u001b[36;1m\u001b[1;3m13.0\u001b[0m\n",
      "Thought:\u001b[32;1m\u001b[1;3mThe result of the arithmetic calculation is 13.0, which simplifies to 13. Next, I need to compute the factorial of 13.\n",
      "\n",
      "Action: Factorial\n",
      "Action Input: 13\u001b[0m\n",
      "Observation: \u001b[33;1m\u001b[1;3m6227020800\u001b[0m\n",
      "Thought:\u001b[32;1m\u001b[1;3mI now know the final answer.\n",
      "\n",
      "Final Answer: 6227020800\u001b[0m\n",
      "\n",
      "\u001b[1m> Finished chain.\u001b[0m\n",
      "6227020800\n"
     ]
    }
   ],
   "source": [
    "from langchain.agents import initialize_agent, Tool\n",
    "from langchain_openai import ChatOpenAI\n",
    "\n",
    "\n",
    "# Define calculator function\n",
    "def calculator(query: str) -> str:\n",
    "    try:\n",
    "        result = eval(query)\n",
    "        return str(result)\n",
    "    except Exception as e:\n",
    "        return f\"Error: {str(e)}\"\n",
    "\n",
    "\n",
    "# Define factorial function\n",
    "def factorial(num: str) -> int:\n",
    "    num = int(num)\n",
    "    if num < 0:\n",
    "        raise ValueError(\"Factorial is not defined for negative numbers.\")\n",
    "    elif num == 0:\n",
    "        return 1\n",
    "    fact = 1\n",
    "    for i in range(1, num + 1):\n",
    "        fact *= i\n",
    "    return fact\n",
    "\n",
    "\n",
    "# Tools setup\n",
    "calculator_tool = Tool(\n",
    "    name=\"Calculator\",\n",
    "    func=calculator,\n",
    "    description=\"Evaluates basic arithmetic expressions.\",\n",
    ")\n",
    "factorial_tool = Tool(\n",
    "    name=\"Factorial\",\n",
    "    func=factorial,\n",
    "    description=\"Computes factorial of a given integer.\",\n",
    ")\n",
    "\n",
    "\n",
    "# Initialize your OpenAI language model\n",
    "llm = ChatOpenAI(model=\"gpt-4-turbo\", temperature=0)\n",
    "\n",
    "# Add all three tools to your agent\n",
    "tools = [calculator_tool, factorial_tool]\n",
    "\n",
    "agent = initialize_agent(\n",
    "    tools=tools,\n",
    "    llm=llm,\n",
    "    agent=\"zero-shot-react-description\",\n",
    "    verbose=True,\n",
    ")\n",
    "\n",
    "# Run query\n",
    "query = \"What is 56 multiplied by 23 plus 12, divided by 100, and factorial of it?\"\n",
    "response = agent.run(query)\n",
    "print(response)"
   ]
  },
  {
   "cell_type": "markdown",
   "metadata": {},
   "source": [
    "# Using langchain tool with structure input to the tools, with multiple tools, where one tool used to get the langitude and longitude, and another tool to get the weather details based on langitude and longitude"
   ]
  },
  {
   "cell_type": "code",
   "execution_count": null,
   "metadata": {},
   "outputs": [
    {
     "name": "stdout",
     "output_type": "stream",
     "text": [
      "\n",
      "\n",
      "\u001b[1m> Entering new AgentExecutor chain...\u001b[0m\n",
      "\u001b[32;1m\u001b[1;3m\n",
      "Invoking: `get_latitude_longitude` with `{'city_name': 'Gwalior'}`\n",
      "\n",
      "\n",
      "\u001b[0m\u001b[36;1m\u001b[1;3m[{'name': 'Gwalior', 'local_names': {'mr': 'ग्वालियर', 'ar': 'قاليور', 'ur': 'گوالیار', 'ja': 'グワーリヤル', 'ml': 'ഗ്വാളിയർ', 'hi': 'ग्वालियर', 'kn': 'ಗ್ವಾಲಿಯರ್', 'uk': 'Ґваліор', 'be': 'Гваліёр', 'pa': 'ਗਵਾਲੀਅਰ', 'es': 'Gwalior', 'de': 'Gwalior', 'sr': 'Гвалиор', 'he': 'גוואליור', 'ru': 'Гвалиор', 'ta': 'குவாலியர்'}, 'lat': 26.2037247, 'lon': 78.1573628, 'country': 'IN', 'state': 'Madhya Pradesh'}]\u001b[0m\u001b[32;1m\u001b[1;3m\n",
      "Invoking: `get_weather` with `{'latitude': 26.2037247, 'longitude': 78.1573628}`\n",
      "\n",
      "\n",
      "\u001b[0m\u001b[33;1m\u001b[1;3m{'coord': {'lon': 78.1574, 'lat': 26.2037}, 'weather': [{'id': 800, 'main': 'Clear', 'description': 'clear sky', 'icon': '01n'}], 'base': 'stations', 'main': {'temp': 295.91, 'feels_like': 294.71, 'temp_min': 295.91, 'temp_max': 295.91, 'pressure': 1012, 'humidity': 18, 'sea_level': 1012, 'grnd_level': 986}, 'visibility': 10000, 'wind': {'speed': 1.4, 'deg': 328, 'gust': 1.44}, 'clouds': {'all': 1}, 'dt': 1742324382, 'sys': {'country': 'IN', 'sunrise': 1742345556, 'sunset': 1742389066}, 'timezone': 19800, 'id': 1270583, 'name': 'Gwalior', 'cod': 200}\u001b[0m\u001b[32;1m\u001b[1;3mThe current weather in Gwalior, India is clear with a temperature of 22.76°C (feels like 21.56°C). The humidity is at 18%, and there is a light wind blowing from the northwest at 1.4 m/s. The visibility is good, at 10,000 meters.\u001b[0m\n",
      "\n",
      "\u001b[1m> Finished chain.\u001b[0m\n"
     ]
    },
    {
     "data": {
      "text/plain": [
       "{'input': 'What is the weather of Gwalior, India',\n",
       " 'output': 'The current weather in Gwalior, India is clear with a temperature of 22.76°C (feels like 21.56°C). The humidity is at 18%, and there is a light wind blowing from the northwest at 1.4 m/s. The visibility is good, at 10,000 meters.'}"
      ]
     },
     "execution_count": 35,
     "metadata": {},
     "output_type": "execute_result"
    }
   ],
   "source": [
    "from dotenv import load_dotenv\n",
    "from langchain.tools import StructuredTool\n",
    "from pydantic import BaseModel\n",
    "from langchain_openai import ChatOpenAI\n",
    "from langchain.agents import AgentType, initialize_agent\n",
    "import requests\n",
    "import os\n",
    "\n",
    "load_dotenv()\n",
    "\n",
    "\n",
    "# Define structured input schema for the tool.\n",
    "class WeatherModel(BaseModel):\n",
    "    latitude: float\n",
    "    longitude: float\n",
    "\n",
    "\n",
    "class LatitudeLongitudeModel(BaseModel):\n",
    "    city_name: str\n",
    "\n",
    "\n",
    "# Function matching the input schema\n",
    "def get_weather(latitude: float, longitude: float) -> dict:\n",
    "    \"\"\"Fetch the weather details.\"\"\"\n",
    "    API_KEY = os.environ[\"WEATHER_API_KEY\"]\n",
    "    API_URL = f\"https://api.openweathermap.org/data/2.5/weather?lat={latitude}&lon={longitude}&appid={API_KEY}\"\n",
    "    return requests.get(API_URL).json()\n",
    "\n",
    "\n",
    "def get_latitude_longitude(city_name: str) -> list:\n",
    "    \"\"\"Fetch the latitude and longitude.\"\"\"\n",
    "    API_KEY = os.environ[\"WEATHER_API_KEY\"]\n",
    "    API_URL = f\"http://api.openweathermap.org/geo/1.0/direct?q={city_name}&limit=3&appid={API_KEY}\"\n",
    "    return requests.get(API_URL).json()\n",
    "\n",
    "\n",
    "# Define a structured tool using StructuredTool\n",
    "weather_tool = StructuredTool.from_function(\n",
    "    func=get_weather,\n",
    "    name=\"get_weather\",\n",
    "    description=\"Fetch the weather details.\",\n",
    "    args_schema=WeatherModel,\n",
    ")\n",
    "\n",
    "latitude_longitude_tool = StructuredTool.from_function(\n",
    "    func=get_latitude_longitude,\n",
    "    name=\"get_latitude_longitude\",\n",
    "    description=\"Fetch the latitude and longitude.\",\n",
    "    args_schema=LatitudeLongitudeModel,\n",
    ")\n",
    "\n",
    "# Initialize the Chat model\n",
    "llm = ChatOpenAI(model=\"gpt-4-turbo\", temperature=0)\n",
    "\n",
    "# Change agent type to OPENAI_FUNCTIONS to support multi-input structured tools.\n",
    "agent = initialize_agent(\n",
    "    tools=[latitude_longitude_tool, weather_tool],\n",
    "    llm=llm,\n",
    "    agent=AgentType.OPENAI_FUNCTIONS,\n",
    "    verbose=True,\n",
    ")\n",
    "\n",
    "# Invoke the agent\n",
    "agent.invoke({\"input\": \"What is the weather of Gwalior, India\"})"
   ]
  },
  {
   "cell_type": "code",
   "execution_count": null,
   "metadata": {},
   "outputs": [],
   "source": []
  }
 ],
 "metadata": {
  "kernelspec": {
   "display_name": "Python 3",
   "language": "python",
   "name": "python3"
  },
  "language_info": {
   "codemirror_mode": {
    "name": "ipython",
    "version": 3
   },
   "file_extension": ".py",
   "mimetype": "text/x-python",
   "name": "python",
   "nbconvert_exporter": "python",
   "pygments_lexer": "ipython3",
   "version": "3.11.11"
  }
 },
 "nbformat": 4,
 "nbformat_minor": 2
}
